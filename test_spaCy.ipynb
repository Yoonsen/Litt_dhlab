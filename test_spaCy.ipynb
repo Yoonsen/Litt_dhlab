{
 "cells": [
  {
   "cell_type": "code",
   "execution_count": 1,
   "id": "ee30cd9b-4cbe-4396-881c-aa9d87f5b8de",
   "metadata": {},
   "outputs": [],
   "source": [
    "import dhlab as dh"
   ]
  },
  {
   "cell_type": "code",
   "execution_count": 4,
   "id": "b5a0ea11-f083-4857-8183-386824c5cbda",
   "metadata": {},
   "outputs": [],
   "source": [
    "book = dh.Corpus(doctype=\"digibok\", author=\"per imerslund\", title=\"passgang\").frame"
   ]
  },
  {
   "cell_type": "code",
   "execution_count": 8,
   "id": "da61f66d-25fb-4c1e-8995-a2d68a0c34e7",
   "metadata": {},
   "outputs": [
    {
     "data": {
      "text/plain": [
       "'URN:NBN:no-nb_digibok_2013121124001'"
      ]
     },
     "execution_count": 8,
     "metadata": {},
     "output_type": "execute_result"
    }
   ],
   "source": [
    "book.urn.values[0]"
   ]
  },
  {
   "cell_type": "code",
   "execution_count": 10,
   "id": "104f703a-365e-4ca1-a1d0-4226bcfa20fb",
   "metadata": {},
   "outputs": [
    {
     "data": {
      "text/plain": [
       "['nb_core_news_lg',\n",
       " 'da_core_news_lg',\n",
       " 'nb_core_news_sm',\n",
       " 'en_core_web_lg',\n",
       " 'en_core_web_md',\n",
       " 'da_core_news_trf']"
      ]
     },
     "execution_count": 10,
     "metadata": {},
     "output_type": "execute_result"
    }
   ],
   "source": [
    "dh.Models().models"
   ]
  },
  {
   "cell_type": "code",
   "execution_count": 12,
   "id": "6cd1f111-f592-4154-9873-c5030f07bf29",
   "metadata": {},
   "outputs": [
    {
     "name": "stderr",
     "output_type": "stream",
     "text": [
      "/home/yoonsen/miniconda3/lib/python3.12/site-packages/dhlab/api/dhlab_api.py:58: FutureWarning: Passing literal json to 'read_json' is deprecated and will be removed in a future version. To read from a literal string, wrap it in a 'StringIO' object.\n",
      "  df = pd.read_json(r.json())\n"
     ]
    }
   ],
   "source": [
    "chars = dh.NER(urn=book.urn.values[0], to_page=500, model=\"nb_core_news_lg\").ner"
   ]
  },
  {
   "cell_type": "code",
   "execution_count": 25,
   "id": "c70a97a5-a8ad-41d8-b186-8fe7bd5ab3c4",
   "metadata": {},
   "outputs": [],
   "source": [
    "names = [row.token for _,row in chars[chars.ner == \"PER\"].head(15).iterrows()]"
   ]
  },
  {
   "cell_type": "code",
   "execution_count": 28,
   "id": "27342593-ec28-4b5d-bf0e-4416e49670a8",
   "metadata": {},
   "outputs": [
    {
     "data": {
      "text/plain": [
       "['0:Franco',\n",
       " '1:Trotski',\n",
       " '2:Jacinto',\n",
       " '3:Imerslund',\n",
       " '4:Antonio',\n",
       " '5:Millan',\n",
       " '6:Gud',\n",
       " '7:Stalin',\n",
       " '8:Seiv',\n",
       " '9:Jim',\n",
       " '10:Bernabé',\n",
       " '11:Trotskis',\n",
       " '12:Juanita',\n",
       " '13:Faisal',\n",
       " '14:Alcazar']"
      ]
     },
     "execution_count": 28,
     "metadata": {},
     "output_type": "execute_result"
    }
   ],
   "source": [
    "[f\"{i}:{n}\" for i, n in enumerate(names)]"
   ]
  },
  {
   "cell_type": "code",
   "execution_count": 29,
   "id": "0a555ae5-2d93-457d-9fe4-1f73377cc842",
   "metadata": {},
   "outputs": [],
   "source": [
    "concs = dict()\n",
    "for n in names[:5]:\n",
    "    concs[n] = dh.Concordance(book, f\"{n}\")"
   ]
  },
  {
   "cell_type": "code",
   "execution_count": 43,
   "id": "adc52590-24f6-4beb-ac01-b6d187bf8360",
   "metadata": {},
   "outputs": [],
   "source": [
    "jeg = dh.Concordance(book, \"jeg\")"
   ]
  },
  {
   "cell_type": "code",
   "execution_count": 45,
   "id": "34bb7ce8-e03c-40e6-9d34-41cf3f68017a",
   "metadata": {},
   "outputs": [
    {
     "data": {
      "text/plain": [
       "306"
      ]
     },
     "execution_count": 45,
     "metadata": {},
     "output_type": "execute_result"
    }
   ],
   "source": [
    "jeg.size"
   ]
  },
  {
   "cell_type": "code",
   "execution_count": 38,
   "id": "d485b1a3-76af-4b20-89d4-636af03aa7d1",
   "metadata": {},
   "outputs": [],
   "source": [
    "#concs['Franco'].concordance.concordance.to_numpy()"
   ]
  },
  {
   "cell_type": "code",
   "execution_count": 46,
   "id": "e696dab0-d8a7-44a2-a7e3-160991831ff1",
   "metadata": {},
   "outputs": [
    {
     "data": {
      "text/plain": [
       "array(['... Så klåtrer <b>jeg</b> opp den bratte stigen . Det knaker i de råtne trinnene . De brede , men litt... ',\n",
       "       'Som attenåring var <b>jeg</b> kvegdriver og handelsmann i vestkystens fjellstrøk . Det er syv år siden . Det var den... ',\n",
       "       'Sefior , <b>jeg</b> kan ikke gi bort min kjærlighet . Er så ung',\n",
       "       '... å skinne i en overnaturlig , truende glans . <b>Jeg</b> er den eneste som vaker og ser avløsningen klirre ned... ',\n",
       "       '... Ved Gud ! <b>Jeg</b> ber deg , gråt når du minnes din kriger .',\n",
       "       '« De skremmer mer enn de dreper , » sa Faisal da <b>jeg</b> med en pakke te og arabiske sigaretter labbet tilbake... ',\n",
       "       '... Siden hørte <b>jeg</b> den visen ofte igjen . Den ble snart sunget langs hele vestkysten av landet . Men ingen... ',\n",
       "       '... Den førte norsk flagg . En norsk krysser ! ropte meksikanerne . <b>Jeg</b> så at det var en hvalbåt .',\n",
       "       '... Og mens <b>jeg</b> drikker min café con leche og lar skopusseren forvandle mine uværspregede beksømstøvler til skinnende lakk , leser... ',\n",
       "       'Og <b>jeg</b> blar i de gamle avisene og leser Quejpo de Llanos taler fra den tiden byen lå der så... ',\n",
       "       '... De stanset foran portalen og spilte til <b>jeg</b> endelig stakk hodet ut gjennom gluggen og takket . Så krøp <b>jeg</b>... ',\n",
       "       '... . Foran oss to biler og bak oss to. <b>Jeg</b> sovner av , sover stående , inneklemt og hvilende mot... ',\n",
       "       'Dengang <b>jeg</b> bad om Juanita , de vilde ikke gi meg henne , hennes foreldre tok henne med seg over... ',\n",
       "       'Tredje dagen etter avmarsjen fra Colima , pleide <b>jeg</b> i morgenskumringen å ri heimover med jaktbyttet bak på salen .... ',\n",
       "       '<b>Jeg</b> vet det ikke . Bare generalstaben vet det . <b>Jeg</b> vet bare at generalene no føler seg sterke nok... ',\n",
       "       '... Derfor skal <b>jeg</b> før <b>jeg</b> kommer inn på meksikansk folkediktning , først fortelle litt om det meksikanske landskap og om... ',\n",
       "       'Gutten fra Rancho del Zarco hjelper meg med å heise opp jorden som <b>jeg</b> graver løs og spar opp i... ',\n",
       "       'Det ble dag . <b>Jeg</b> reiste meg . Enkelte ryttere travet alt ut av byen . Der red også mine... ',\n",
       "       '<b>Jeg</b> har venner i landet . Og mine venner har sendt meg en meksikansk valgplakat og et tidsskrift med en... ',\n",
       "       '... Torremolinos , en landsby som alle de andre <b>jeg</b> har passert . No gidder <b>jeg</b> ikke lenger spørre folk om... ',\n",
       "       'Om dagen jaktet <b>jeg</b> rådyr og fasaner i høydene overfor canyonen . <b>Jeg</b> måtte bære med meg en sekk av... ',\n",
       "       'man sier den tar nok en ende , men meg , meg skremmer de ikke , <b>jeg</b> vil ikke høre... ',\n",
       "       'Det sølvet <b>jeg</b> hadde med meg gikk sølvets vante gang ,',\n",
       "       '... Litt etter litt fikk <b>jeg</b> det inntrykk at man ikke hadde synderlig tillit til meg . Man har i det... ',\n",
       "       '<b>Jeg</b> må plutselig tenke på meg seiv . De sovende kameratene og de unge , gamle krigerne , alle er... ',\n",
       "       'i Juanita må <b>jeg</b> finne det igjen , / ja , seiv om <b>jeg</b> ekter en annen ,',\n",
       "       '... I natt må <b>jeg</b> sove , tenker <b>jeg</b> , og være uthvilt til å ta ilddåpen .',\n",
       "       'Men den natten hørte <b>jeg</b> ikke sangen til ende . <b>Jeg</b> ble minnet om Norge da <b>jeg</b> hørte gledeløst er... ',\n",
       "       'Da <b>jeg</b> salet gampen for det lange rittet til plantasjen , satt de fjorten i elegante hvite tropedresser og hjelmer... ',\n",
       "       '... Inntil <b>jeg</b> førte en liknende samtale med min venn , den engelske klippfiskimportøren .',\n",
       "       'Noen uker etter dette rittet fikk <b>jeg</b> i Colima tilbud om en stilling på en kaffefinca . <b>Jeg</b> tok den... ',\n",
       "       '... <b>Jeg</b> fortalte om tjeneren og at <b>jeg</b> var ansett som aristokratiets gjest . Konsulen stirret bare forståelsesløst . Så sa... ',\n",
       "       '... En time etter at den kommer kald og fjelltprr tilbake fra høydene i øst , skulde <b>jeg</b> nå den lille... ',\n",
       "       '... som den spanske generalen gjorde det overfor sine maurere ( og <b>jeg</b> kanskje gjør det i denne artikkel ) .',\n",
       "       '... Og generalen taler : « <b>Jeg</b> er stolt over å være blitt en sevillaner . » Jubel . Han slutter sin tale... ',\n",
       "       'Dette oppropet var det første <b>jeg</b> leste i grensebyen Ayamonte .',\n",
       "       '<b>Jeg</b> gikk fra bod til bod . Sangerne fulgte etter i noen meters avstand . « Hva skal vi synge ?... ',\n",
       "       '... Om <b>jeg</b> en dag møtte ham og så ham kjempe med sine vindmøller , så vilde det ikke forundre meg... ',\n",
       "       '<b>Jeg</b> får høre om falangens kvinneorganisasjon og om de såkalte Flechas , de helt unge falangistene fra 6 til 15... ',\n",
       "       '... Her sov <b>jeg</b> om natten og lot hesten stå dagen over . Det var den eneste skyggefulle pletten i vid... ',\n",
       "       'Og <b>jeg</b> vil bære deg inn i mørke skogen .',\n",
       "       '<b>jeg</b> vilde følge hennes spor uten rast , til sjøs på damper og krigsskip og på landjorden i pansertoget .',\n",
       "       '« Skal dere ta Lola og Consuelo med dere til Italia ? » spør <b>jeg</b> .',\n",
       "       'Det varte en stund før <b>jeg</b> vennet meg til mørket . En kjempestor trebrisk opptok halvparten av rommet . Det... ',\n",
       "       '... Men <b>jeg</b> har av en eller annen grunn fått øynene opp for det komiske og tragisk groteske ved denne fangetilværelsen... ',\n",
       "       '... Ved hjelp av en avisgutts vegledning får <b>jeg</b> se de tre husene bombene har lagt i grus . Men byen... ',\n",
       "       'Og når <b>jeg</b> engang kommer heim og du vil tale med meg',\n",
       "       'En påfugl vil <b>jeg</b> være og beile til deg .',\n",
       "       '... Han ser fram mot rettspresidenten mens han svarer : « Ja , <b>jeg</b> var jo anarkist . » Svaret kommer langsomt ,... ',\n",
       "       '... <b>Jeg</b> har sett plakaten hundrevis av ganger , men alltid blir <b>jeg</b> stående og stirre ... Det er noe av... ',\n",
       "       '<b>Jeg</b> baner meg veg til rådhuset . Bytjenere i kostbare , gammeldagse livreer tar imot oss , rekker oss champagne... ',\n",
       "       '... Når <b>jeg</b> snakker med en av de unge lærerne , mister <b>jeg</b> lysten til kritikk . De lever i jordgammer... ',\n",
       "       '« Skal herren ha et teppe ? » Den tykke med forkleet bøyer seg over meg der <b>jeg</b> legger meg til rette... ',\n",
       "       '« Der , far , der har du kuene dine , » sa han da han kom mot ham . « <b>Jeg</b> er... ',\n",
       "       '« Hva skal vi to alene mot en hel tanks ? » innvender <b>jeg</b> litt nølende .',\n",
       "       'om det <b>jeg</b> opplevde seiv og det som skjer i verden .',\n",
       "       'Men <b>jeg</b> er lys våken , våken som om <b>jeg</b> skulde tatt et stimulerende middel . Fra alle rom ,... ',\n",
       "       '... Du og Tamaulipas , hver mann kunde <b>jeg</b> felle for deres skyld , synger han . Og han slutter med... ',\n",
       "       '... <b>Jeg</b> har ikke behøvd å kjede meg et eneste minutt , og bare fra Sevilla kunde <b>jeg</b> ha fått stoff... ',\n",
       "       '<b>Jeg</b> spør om de aldri har vært redd tanksene . Jo , det var de. Den første gangen de møtte... ',\n",
       "       'Senor , <b>jeg</b> kan ikke gi deg kjærlighet . Er så ung',\n",
       "       '... Men <b>jeg</b> fant ikke ordene . <b>Jeg</b> følte meg som frontsoldaten som når han kommer heim på permisjon og skal... ',\n",
       "       'I morgen rir <b>jeg</b> , i morgen , <b>jeg</b> kommer og sier farvel , rir langt bort fra mitt heimsted... ',\n",
       "       'Gangen var bare en meter bred . <b>Jeg</b> stod med ryggen',\n",
       "       '<b>Jeg</b> har allérede fått en « Madrina de Guerra » ( en krigermor ) , og min vertinne har gitt meg en... ',\n",
       "       '<b>Jeg</b> hopper på toget som skal sørover og ser de beseirede dra ut av byen . På hundre mann er... ',\n",
       "       '... Da de hører <b>jeg</b> er nordmann , forteller de om kampene ved Esteponafronten ...',\n",
       "       '... Aldri før hadde <b>jeg</b> hørt noen synge så fritt og inderlig . Men så følte vi oss jo også som... ',\n",
       "       '... Under søylegangene på den andre siden av plassen så <b>jeg</b> lys . Det var meget larm der . Menn med... ',\n",
       "       'Til høsten reiser <b>jeg</b> til Mexico for å plante sitroner oppe i Pacifikkystens fjellstrøk . <b>Jeg</b> elsker landet og folket... ',\n",
       "       'Et tydelig bevis på Francos sterke posisjon blant alt som heter marokkanere , fikk <b>jeg</b> i Sevilla . To store... ',\n",
       "       '... ruvet ensom , tung og svær over bardisken . <b>Jeg</b> var eneste gjest . Det var dårlige tider ... Kanskje... ',\n",
       "       '... hadde herjet landet fattig i to lange år . <b>Jeg</b> hadde oppgitt ranchen og solgt de siste par kuene og... ',\n",
       "       '« Han likner San Andres , » hørte <b>jeg</b> en gammel kjerring si . Og det å likne en helgen er jo... ',\n",
       "       '<b>Jeg</b> kom til Colima uten å slå i stykker noen av antikvitetene , og <b>jeg</b> var heldig et amerikansk reiseselskap',\n",
       "       'Og om <b>jeg</b> faller i kampen',\n",
       "       '... Herren venter alt på Dem for å handle om maisen . » <b>Jeg</b> går inn og spiser , og så handler... ',\n",
       "       '... Enda en gang ser <b>jeg</b> ham reise seg opp i sin fulle lengde . Han blir stående en stund .... ',\n",
       "       '« Men de er jo fascister , » innvendte <b>jeg</b> . « De har da til en viss grad de samme ideene som... ',\n",
       "       '... Ikke et dyr rørte seg der <b>jeg</b> travet fram over den harde sanden . Fra fiskerindianernes hytter hørtes ingen sang... ',\n",
       "       'og om <b>jeg</b> enn sprang og spurte , arbeidsplass fant <b>jeg</b> ikke .',\n",
       "       '... Det var etter meget besvær gått i orden , så <b>jeg</b> var blitt falangista de primera linea .',\n",
       "       '... Seiv ble <b>jeg</b> i et tidsrom av fire og tyve dager utsatt for bombardement to gånger daglig .',\n",
       "       '... Men <b>jeg</b> vil ri allikevel . Tanken får det til å prikke i huden . Kanskje <b>jeg</b> treffer ham en... ',\n",
       "       '<b>Jeg</b> kjenner noen av de menige soldatene fra Napolis . De har forlovet seg med spanske donnaer .',\n",
       "       '... Han var glad , Jacinto , <b>jeg</b> hadde sett ham ri forbi så ofte , men alltid var det noe... ',\n",
       "       '... Det var i denne ventetiden <b>jeg</b> først ble kjent med den unge bonden og drapsmannen Jacinto . Han hadde alt... ',\n",
       "       '... Det skal <b>jeg</b> fortie . Det er uten betydning , for råttenskapen er lik hele verden over .',\n",
       "       '<b>Jeg</b> har slengt meg ned foran kirken og skjærer biter av osten med min bajonett . En del av kameratene... ',\n",
       "       '... Da endelig den norske konsulen ropte mitt navn gjennom gitteret , hadde <b>jeg</b> nesten begynt å føle noe som liknet... ',\n",
       "       '... Men <b>jeg</b> håper at Jacinto ble lykkelig . <b>Jeg</b> forlot landet like etter , og har ikke hørt mer til... ',\n",
       "       '... Gm det virkelig fantes skatter , så skulde <b>jeg</b> nok finne dem .',\n",
       "       '... Her er en av sangene som <b>jeg</b> har prøvd å oversette til norsk :',\n",
       "       '... må vi svare at det vet vi ikke . <b>Jeg</b> for min del har sett seks , to offiserer og... ',\n",
       "       'For syv år siden , før oppdelingens tid , så <b>jeg</b> den samme festen på en av de store haciendaene... ',\n",
       "       '... til de fiendtlige kameratene : « Camerada i morgen reiser <b>jeg</b> til Sevilla ... første gang etter ni måneders frontliv ... »',\n",
       "       'Det var egentlig den lille skopusseren som var skyld i at <b>jeg</b> ble to dager lenger i Malaga enn beregnet... ',\n",
       "       'Det lønnet seg å være arkeolog . <b>Jeg</b> begynte snart å arbeide i større stil og kunde ofte ha tre... ',\n",
       "       'Mannen er gal , tenker <b>jeg</b> og setter meg opp på briskekanten . <b>Jeg</b> har oppgitt å få sove .',\n",
       "       '... No hadde vi det godt , hesten og <b>jeg</b> .',\n",
       "       '... Gringo ! En av musikantene forstod plutselig hvorfor <b>jeg</b> ikke kunde høre den sangen til ende . « Unnskyld at vi... ',\n",
       "       'skje lov at <b>jeg</b> har kopier av de fleste artiklene . De vil <b>jeg</b> no få sendt til Norge på... ',\n",
       "       '... Censura Militærs » stempel . Konvolutten var også alltid stemplet av sensuren . <b>Jeg</b> sendte alt med luftpost og rekommandert .',\n",
       "       '... som hadde funnet noe av denne skjulte rikdom . <b>Jeg</b> kjente seiv en haciendado , som åpent tilstod at han... ',\n",
       "       'Frykt ikke , kamerater , den mørke tåkenatten , for <b>jeg</b> spiller min gitar seiv om <b>jeg</b> skjelver av sult... ',\n",
       "       '... Det var de samme falske tonene <b>jeg</b> hadde hørt dengang han hadde drept de to politifølkene .',\n",
       "       '... juli 34. » Og <b>jeg</b> skriver opp en lang liste over attentater , over døde og sårede ...',\n",
       "       'På bordet ditt står de blomstene <b>jeg</b> gav deg . Maria , vær snill og gi meg din elskov .',\n",
       "       '... Da <b>jeg</b> var fem år gammel mistet <b>jeg</b> min mor . Min far har <b>jeg</b> aldri kjent . »',\n",
       "       '<b>Jeg</b> lar dem synge og spille . De er mestere i å bruke instrumentene sine . Sterkt og taktfast klinger... ',\n",
       "       'I Antequera får <b>jeg</b> henge på en militær lastebil til Sevilla . Vi er inne på det område som de... ',\n",
       "       'Hvem det var som løste problemet og skaffet spanjerne på begge sider vin og tobakk , det vet <b>jeg</b> ikke... ',\n",
       "       '<b>Jeg</b> ser de magre , utsultede mennene og vet at intet føles mer ydmykende enn å bli fet og måtte... ',\n",
       "       '<b>Jeg</b> hadde aldri tenkt meg at nordmenn kunde ha et så gjennomført krigersk utseende . De er mer enn soldater... ',\n",
       "       'Også denne gangen ble <b>jeg</b> tre dager i Manzanillo istedenfor en . Det var vanskelig å komme seg bort fra... ',\n",
       "       '... Men de to amerikanere , den engelske sportsjegeren og <b>jeg</b> gikk ned til bryggen for å by « the white men... ',\n",
       "       'Seiv har <b>jeg</b> deltatt i borgerkrigen som frivillig i Falange Espahola . Der måtte <b>jeg</b> snart oppgi håpet om at... ',\n",
       "       '... De drar videre , og <b>jeg</b> blir sittende igjen på rommet i hestenes og eslenes hotell .',\n",
       "       'Mens <b>jeg</b> skriver dette , trenger den inntrengende trommingen og fløytingen fra hedenske instrumenter inn fra plazaen . Gamle skikker... ',\n",
       "       '... De drepte ham ved forræderi , og guvernøren sa : « Hvorfor drepte dere Bernal ? <b>Jeg</b> vilde gjøre ham til... ',\n",
       "       'No ble <b>jeg</b> vitne til en begivenhet som tydelig viste hvor stor aktelse den alminnelige meksikaner har for sine foreldre... ',\n",
       "       'Maurerne ved sidebordet tror at <b>jeg</b> er tysker og inviterer meg på en kopp kaffe . « Dere tyskere store venner... ',\n",
       "       '... fra et dusin grådyr tvinger meg til å rope høvt for å få verten til å forstå at <b>jeg</b> vil... ',\n",
       "       '... Men <b>jeg</b> ? <b>Jeg</b> er her av nysgjerrighet ... fordi <b>jeg</b> vil vite , fordi <b>jeg</b> vil kjenne dette folket... ',\n",
       "       '... Mens <b>jeg</b> drikker , ser <b>jeg</b> at han har tre røde striper brodert under regimentmerket ... tre røde striper ...... ',\n",
       "       '... er en vakker vannbeholder den Hile broren din har funnet . <b>Jeg</b> vilde gjerne ha en så vakker vannbeholder . »',\n",
       "       'Intervjuet er slutt . Assistenten renskriver samtalen . Så undertegner Jefe og <b>jeg</b> hvert vårt eksemplar .',\n",
       "       '... brosjyrer fra den røde og den nasjonale landsdelen . <b>Jeg</b> har ett meg gjennom haugen og forgjeves lett etter noen... ',\n",
       "       'jo ikke den eneste . <b>Jeg</b> måtte i tilfelle tale en lang stund . Kanskje dere kunde forstå hvorfor ... »',\n",
       "       '... Sjelden har <b>jeg</b> sett et terreng som byr så ypperlige muligheter for forsvar som denne « sierra de Malaga » . Men... ',\n",
       "       'Unnskyld , du senorita , unnskyld det <b>jeg</b> sier deg , om <b>jeg</b> taler om elskov det er for å... ',\n",
       "       '... uten at der behøves å lages noen organisasjon . <b>Jeg</b> har sett seks av dem , truffet dem rent tilfeldig... ',\n",
       "       'En dag red <b>jeg</b> som vanlig innom « Rancho del Zarco » . Folkene i dette avsidesliggende strøket holder enno på de... ',\n",
       "       '<b>Jeg</b> går gjennom altet uten en trøst ,',\n",
       "       '<b>Jeg</b> har stappet lommene fulle av splinter . <b>Jeg</b> får vandre videre ... mot Malaga . Guardiaen følger meg et... ',\n",
       "       '... gir ham preg av lidende helgen eller asket . <b>Jeg</b> har fått en viss sympati for ham han er visst... ',\n",
       "       '<b>Jeg</b> ble gledelig overrasket da vi kom fram til den gamle gravplassen . Den lille høyden var delt opp i... ',\n",
       "       '<b>Jeg</b> ber dem synge en sang med spennende og tragisk handling . Og de synger om banditten Heraclio Bernal ,... ',\n",
       "       '<b>Jeg</b> samler opp en del patronhylser og begynner å lete etter granatsplinter . Guardiaene stanser min nytteløse leting . « De... ',\n",
       "       '... alle mine spørsmål . Assistenten stenograferer ned samtalen . <b>Jeg</b> sitter rolig tilbakelenet i min stol og studerer El Jefe... ',\n",
       "       'En dag traff <b>jeg</b> to tyske flyveroffiserer <b>jeg</b> kjente fra den tiden <b>jeg</b> seiv lå i sørfrontens skyttergraver . De... ',\n",
       "       'Med mine kvisters flor vil <b>jeg</b> svale deg .',\n",
       "       'Aldri har <b>jeg</b> hørt en mere fengende taler , sjelden et mer formfullendt tysk enn det Trotski imponerte Drammens lagmannsrett... ',\n",
       "       '... Sjakten er så smal at <b>jeg</b> må sitte på huk for å kunne grave . <b>Jeg</b> støter albuene og knærne... ',\n",
       "       '... Marquien sitter på sin melkekrakk og dosenten og <b>jeg</b> på en liten kasse . Vi snakker ikke om politikk ,... ',\n",
       "       '... Han var blitt gal , tenkte <b>jeg</b> , no kommer han til å miste livet og <b>jeg</b> den gode ,... ',\n",
       "       '... <b>Jeg</b> drakk langsomt , og mellom hver slurk sa <b>jeg</b> noen høflige ord til kvinnene . Men hva var det... ',\n",
       "       'Om man når krigen er vunnet vil drive en antibolsjevikisk utenrikspolitikk i likhet med Tyskland . « Det kan <b>jeg</b> ikke... ',\n",
       "       'Men <b>jeg</b> , som tilfeldigvis ble med i aksjonen på Hønefoss , har tilfeldigvis også levd fire år i Mexico... ',\n",
       "       '... Ren alkohol , fortynnet med saft av ananas , granatepler , sitroner , limas og andre tropefrukter som <b>jeg</b> ikke... ',\n",
       "       '... Da fjorten dager var gått , satt <b>jeg</b> igjen i Bar Gloria . Mine venner var helt ugjenkjennelige av å... ',\n",
       "       'Men brisken er opptatt . <b>Jeg</b> kan ikke oppdage en kvadratcentimeter ledig plass . »',\n",
       "       'lovet de da <b>jeg</b> strammet salgjorden og steg i stigbøylen . De skulde komme for å si meg farvel ,... ',\n",
       "       'Når du leser dette brev , er <b>jeg</b> ved fronten . <b>Jeg</b> er « Falangista de la primera linea » . Om... ',\n",
       "       '... Da <b>jeg</b> no igjen besøkte de falangistiske avisene , var redaktørstillingene besatt av prester , jesuitter eller folk av Gil... ',\n",
       "       '<b>Jeg</b> husker enno godt min første ferd med en flokk slaktekveg . I en landsby ved kysten , det var... ',\n",
       "       '... Ellers kan <b>jeg</b> intet fortelte . Etter hvert ser <b>jeg</b> tingene slik de er . Og krigen vil lære meg... ',\n",
       "       '... Hadde <b>jeg</b> dratt ut alene eller sammen med en av borgerne , vilde følget blitt langt og tallrikt . De... ',\n",
       "       'Når <b>jeg</b> hadde samlet i hop så mange skinn og så meget tørkekjøtt som hesten kunde klare å bære ,... ',\n",
       "       '<b>Jeg</b> ser høvdingen . For en uke siden satt han i skjorte og høy snipp og lærte ungene å skrive... ',\n",
       "       'No vilde <b>jeg</b> seiv åpne noen av de gamle gravene . <b>Jeg</b> fikk tak i en liten , kobberbrun skøyer... ',\n",
       "       '<b>Jeg</b> vil skrive om indianerfolket som finner tilbake til sin sjel . I morgen drar karavanene til Tuxpan og Zapotlan... ',\n",
       "       'Det var første gang <b>jeg</b> hørte en spanjer si manana uten å gjenta samme ordet når man så traff ham... ',\n",
       "       '... Vi var så unge alle sammen , <b>jeg</b> tror den eldste var 23. <b>Jeg</b> sa ikke et ord hele kvelden... ',\n",
       "       'Om Adelita var min hustru , om Adelita var min kvinne , da kjøpte <b>jeg</b> henne en silkekjole og førte... ',\n",
       "       '... Hvem var de ? Hvor kom de fra ? <b>Jeg</b> spurte dem ikke . Ingen spurte . « Den rette hvileplassen... ',\n",
       "       '... . » Han rekker meg en kalender for året 1937. <b>Jeg</b> river av et blad og leser : « Vår oppgave er... ',\n",
       "       'Han rullet seg en ny sigarett og spurte hva <b>jeg</b> hadde tenkt å gjøre når det no snart ble fred... ',\n",
       "       '... <b>jeg</b> har oversatt en del av de mest typiske setninger <b>jeg</b> tilfeldigvis er kommet over i tre røde dagsaviser .... ',\n",
       "       'Det var ved denne nattlige festen i den lille byen mellom kysten og Guadalajara <b>jeg</b> begynte å interessere meg for... ',\n",
       "       'Det snakkes og gestikuleres . <b>Jeg</b> treffer en av de norske legionærene , en løytnant i flyvåpnet . Den høye... ',\n",
       "       'Leve Sevilla , solens venninne , den hellige jomfrus kjæreste by ! Arriba Espana ! <b>Jeg</b> ser generalen , en... ',\n",
       "       '... . De var en B — lo8 — 10 mann . <b>Jeg</b> satt utenfor porten og hørte dem rope inn i naboens... ',\n",
       "       'Et tre vil <b>jeg</b> være som gir deg skygge .',\n",
       "       '« Får <b>jeg</b> lånt Deres hest , senor , den er hurtigere enn min. »',\n",
       "       '... Seinere hørte <b>jeg</b> at bittet av noen av disse udyrene kunde drepe en mann på få minutter , og <b>jeg</b>... ',\n",
       "       '... Da solnedgangen brakte aftenens vindstille time , måtte <b>jeg</b> tenke på orkanen som førte « krysseren » inn til vår havn .... ',\n",
       "       '« De er vel ikke spanier ... » spurte han . « Nei , <b>jeg</b> er nordmann , » svarte <b>jeg</b> .',\n",
       "       '... Allikevel kjenner <b>jeg</b> ingen sang som er strengere i sin form og mer behersket i sin rytme og klang .... ',\n",
       "       '<b>Jeg</b> går fra rettssal til rettssal . Overalt det samme bilde . Fangene føres ut , askegrå og stive i... ',\n",
       "       '... vilde et hvilket som helst museum med glede ha betalt sine tusen kroner for de kunstskattene <b>jeg</b> der smadret med... ',\n",
       "       '<b>Jeg</b> har ikke sovet den siste natten og heller ikke den foregående , <b>jeg</b> er så trett at <b>jeg</b> tror... ',\n",
       "       '<b>Jeg</b> fikk så mange penger at <b>jeg</b> kunde betale all min gjeld , kjøpe meg et godt muldyr og dessuten... ',\n",
       "       'flyktet for blodhevnen . <b>Jeg</b> måtte smile da <b>jeg</b> tenkte på blodhevn i Norge .',\n",
       "       '... Først neste dag fikk <b>jeg</b> vite hvorledes det hadde gått for seg . Politirytterne hadde ikke brydd seg om den... ',\n",
       "       'Tre dager ble <b>jeg</b> i Manzanillo og drakk med den hemmelighetsfulle skipsbesetningen . De tilhørte et rederi som ikke stod... ',\n",
       "       '... Men <b>jeg</b> var hvit . <b>Jeg</b> kunde ikke glemme . <b>Jeg</b> hørte nok sangen , men hjernen arbeidet og speidet... ',\n",
       "       '<b>Jeg</b> står i en bar og spanderer « Bier » på to tyske studentsoldater . Mannen med lirekassen over på den andre... ',\n",
       "       'Kullsvarte hest steil opp , steil og steil en gang til , for med denne hesten skal <b>jeg</b> hente min... ',\n",
       "       '... Dosenten og <b>jeg</b> spaserer fram og tilbake foran den tilgitrede døren . Dosenten er mistenkt for å være kommunist og... ',\n",
       "       'Merkelig hurtig venner en seg til krigen ! Det er bare en uke siden <b>jeg</b> kom til dette gudsforlatte ,... ',\n",
       "       'I Colima , ved Mexicos vestkyst , slang <b>jeg</b> omkring i flere måneder . Av og til rev <b>jeg</b> meg... ',\n",
       "       'Da Antonio neste morgen vekket meg med ordene : « Senor , kaffen er ferdig , » var <b>jeg</b> slett ikke forbauset... ',\n",
       "       'her må vi grave , her har de skjult sakene sine . » Jo , <b>jeg</b> ser at hvelvet er fylt... ',\n",
       "       'Fjorten dager seinere var <b>jeg</b> igjen i Manzanillo . Krysseren ruvet enno i havnen . Vår krysser , sa meksikanerne... ',\n",
       "       'Foruten Torres og hans familie var <b>jeg</b> den eneste som enno hadde våpen . <b>Jeg</b> var jo utlending og hadde... ',\n",
       "       '« <b>Jeg</b> lever lykkelig i Mexico og vil bli i landet så lenge general Cardenas regjering lar meg beholde mitt fristed... ',\n",
       "       'Han trodde nok at også <b>jeg</b> var en drapsmann som',\n",
       "       '... Hvorfor gadd man ikke forsvare den ? <b>Jeg</b> spør bøndene og gjeterne . Overalt det samme svar : « Forsvare ?... ',\n",
       "       '... Der skimtet <b>jeg</b> en ny gang , et nytt gelender og en ny rekke tilgitrede dører . <b>Jeg</b> så oppover... ',\n",
       "       'Mine herrer , <b>jeg</b> skal synge noen vers <b>jeg</b> laget',\n",
       "       'Gang på gang såtte <b>jeg</b> meg ned for å skrive , og hver gang rev det pulserende , blodfylte livet... ',\n",
       "       '<b>Jeg</b> venter . <b>Jeg</b> har vennet meg til å vente . Folk har uhyre god tid her , til tross... ',\n",
       "       '... Og mens <b>jeg</b> fyller lommene med granatsplinter , hører <b>jeg</b> en av guardiaene : « Hovedstyrken holdt seg heime i landsbyene... ',\n",
       "       'Seiv fikk <b>jeg</b> aldri oppleve en tanks på nært hold . De ti ukene <b>jeg</b> var soldat i Francos hær... ',\n",
       "       '« Senoras , <b>jeg</b> ber om noen dråper vann ! »',\n",
       "       '... Når <b>jeg</b> om kvelden steg ned til hvileplassen ved tamarindotreet , var det sjelden at <b>jeg</b> ikke hadde med meg... ',\n",
       "       'Ja , kanskje finner <b>jeg</b> gull , tenkte <b>jeg</b> . En hørte så meget om gamle nedgravde skatter , om... ',\n",
       "       'Men <b>jeg</b> tror at store menn ofte er temmelig små og innskrenket i all sin klokskap . De ser bare... ',\n",
       "       'Hør min jord , den lot <b>jeg</b> fare for i fremmed land å finne arbeid . <b>Jeg</b> kom til San... ',\n",
       "       '... De var blitt røde og opphovnete i ansiktene . <b>Jeg</b> bandt hesten ved en av søylene og tok imot en... ',\n",
       "       '... Og <b>jeg</b> visste at intet er mer vanskelig enn overgangen fra krig til fred . Og <b>jeg</b> forstod at disse... ',\n",
       "       '<b>Jeg</b> spør videre , og han forteller at Falange Espanola ble dannet hin store 29. oktober 1933. « Dengang da vår... ',\n",
       "       'Stakkars fyr , tenkte konsulen , han er visst gått helt fra forstanden . « <b>Jeg</b> kommer igjen i morgen .... ',\n",
       "       '<b>Jeg</b> ser nye tropper danse inn på- plazaen foran katedralen . Rakettene suser lysende til værs og eksploderer med piskende... ',\n",
       "       'I det fredelige Sevilla traff <b>jeg</b> noen av mine gamle kamerater fra skyttergraven . De satt sammen i klynger og... ',\n",
       "       '... gubben stod i porten og tok imot dem . <b>Jeg</b> så dem ri inn gjennom stuene og inn i innhegningen... ',\n",
       "       'Marquien og dosenten sørget for at <b>jeg</b> i nummer 3',\n",
       "       '... De føler seg vel i Spania . « Dette er la segunda Abessinia , » svarer en offiser da <b>jeg</b> spør om... ',\n",
       "       '... Kan du behandle en mitraljøse ? <b>Jeg</b> nikker bekreftende og tildeles et spesialistlag . Adelante ! I gåsegang , i... ',\n",
       "       'på gjer syn , kjære Juanita , <b>jeg</b> skal føre deg med meg i salen .',\n",
       "       'mellom sekker og matter . Den natten kunde ikke engang loppene forstyrre meg , så trett var <b>jeg</b> .',\n",
       "       '... det er vi som er drevet på flukt . <b>Jeg</b> synes oppriktig synd på deg , kamerat Miajas . » Og... ',\n",
       "       '<b>Jeg</b> husker en reise langt inne i det indre av staten Jalisko . Det var i 1939 , året etter... ',\n",
       "       '... Permisjon vil <b>jeg</b> ha i aften for å gå og se til min Chata .',\n",
       "       'Seinere snakket <b>jeg</b> med noen av de « notable » ( høvdingene ) . De fortalte at de elsket Tyskland . Hitler... ',\n",
       "       '... kommer noen spørsmål han ikke vil svare på . <b>Jeg</b> spør om man vil tåle at kirken eier store jordeiendommer... ',\n",
       "       'Da vi slo leir for natten ved en stor hacienda , var <b>jeg</b> så trett at <b>jeg</b> ikke engang orket... ',\n",
       "       '... På disse ferder red <b>jeg</b> alltid sammen med to indianske gjetere som kalles de vaqueros . Og det var mine... ',\n",
       "       '... Men det ble ikke skutt mer den kvelden . <b>Jeg</b> så at de fleste hadde skjult våpnene under ponchoen eller... ',\n",
       "       '... Jacinto tok det naturligvis som en selvfølge at <b>jeg</b> gledet meg over å få hjelpe ham med det nattlige overfallet... ',\n",
       "       '... alvorlig over den , vil du bli gal . <b>Jeg</b> var engang student , sparket fotball og studerte filosofi .... ',\n",
       "       '... En dag var <b>jeg</b> med min far inn i guvernørpalasset . Far ordnet med kjøp av noen okser . Dommeren... ',\n",
       "       \"og smilte politikerne til <b>jeg</b> fulgte med : Kanskje <b>jeg</b> aldri mer ' fikk skrive . De bratte gatene lyste i... \",\n",
       "       '... Fra Norge hørte <b>jeg</b> ingenting , og mistet etter hvert lysten til å sende artikler ut i det blå .... ',\n",
       "       'å være for gal etter kvinner . Sangen <b>jeg</b> synger skal hete « Ta det med ro » .',\n",
       "       'Men <b>jeg</b> likte den fengende melodien og den enkle , morsomme teksten godt .',\n",
       "       '... drepes uten foregående rettsforhandlinger . « Men denne anklagede kan <b>jeg</b> ikke forsvare . Det er umulig . » Og han reiser... ',\n",
       "       '... Hvor ofte har <b>jeg</b>',\n",
       "       '<b>Jeg</b> skal synge disse strofer med kjærlig sinn og ærbødighet for å minne om den mann som var Macario Romero... ',\n",
       "       '« <b>Jeg</b> har hatt det ganske bra , » sa <b>jeg</b> .',\n",
       "       '<b>jeg</b> hundre patroner <b>jeg</b> fikk dem på kreditt hos en tysk kjøpmann salte gampen og red mot « Rio del Naranjo... ',\n",
       "       'Så langt gikk <b>jeg</b> ikke , men <b>jeg</b> lot blyet rote opp jorden ved deres føtter , slik at de... ',\n",
       "       '... calabozo , og en ble ført til forhør . <b>Jeg</b> spiste med marquien og dosenten og lot meg betjene av... ',\n",
       "       'Jaguaren vil <b>jeg</b> være fra fjellene dine .',\n",
       "       '... en ordre : Generalissimo autoriserer den falangistiske hilsen . <b>Jeg</b> har rett , sier min Falangista . Franco blir mer... ',\n",
       "       '<b>Jeg</b> håper at du har fått den urgamle artikkelen om min Malagavandring !',\n",
       "       '<b>Jeg</b> drakk mange kopper svart , bitter mokka med de staute , enkle karene fra Nordafrikas fjell . De sier... ',\n",
       "       '... Og utdannelse har <b>jeg</b> mer enn nok . I sammenlikning med spanjerne er <b>jeg</b> en gammel , veltjent kriger med... ',\n",
       "       '... At Jacinto vilde hjelpe meg hvis <b>jeg</b> skulde komme i et knipetak , det var så selvfølgelig og opplagt ,... ',\n",
       "       'På vegen langs fronten , fra Bilbao til Cadiz og Sevilla , møtte <b>jeg</b> tusener av fanger fra de siste... ',\n",
       "       '<b>Jeg</b> visste <b>jeg</b> aldri vilde blande meg opp i noen innfødt affære og aldri kom til å trenge denne hjelpen... ',\n",
       "       '« Nei , <b>jeg</b> sover utmerket . Greven har lånt meg et par tepper og dosenten en hodepute , og grevens... ',\n",
       "       '... marerittet ... <b>Jeg</b> treffer ikke en mann som ikke har mistet minst én nær slektning . <b>Jeg</b> hører om nesten... ',\n",
       "       '... Døren bak meg slo igjen med et klirrende brak , og <b>jeg</b> hørte nøklene knirke i alle låsene .',\n",
       "       '<b>Jeg</b> hørte og så enno meget til tanks , men alt bekreftet mine første inntrykk . Bare under særlig gunstige... ',\n",
       "       'En tykk , godslig utseende portugiser med et slags hvitt forkle foran maven spør om <b>jeg</b> ikke vil sove .... ',\n",
       "       '... . Der fantes da noe annet enn fest . <b>Jeg</b> fikk seiv lage meg et bord og ta stallen til... ',\n",
       "       '... muerte . <b>Jeg</b> forstår plutselig ordene i legionærenes sang . Soy el novio de la muerte . <b>Jeg</b> er dødens... ',\n",
       "       '<b>Jeg</b> vilde kanskje ha blitt en rik mann hvis Jacinto hadde klart å holde seg i skinnet hver gang vi... ',\n",
       "       'På heimvegen tok <b>jeg</b> meg en sving utenom husene , ut mot markene . Bøndene pløyde med riflen over skulderen... ',\n",
       "       '... Så hentet <b>jeg</b> sekken med lønningen og steg trett i salen . Varmen holdt på å kvele meg . Husene... ',\n",
       "       '... en , en englender , » ropte de forbauset da <b>jeg</b> førtes forbi dem og vaktene vridde opp låsen til calabozo... ',\n",
       "       '... No tok <b>jeg</b> situasjonen mer med ro . Egentlig var to netters og tre dagers opphold i calabozo tre altfor... ',\n",
       "       '... Et halvt år traff <b>jeg</b> hver fjortende dag sammen med de fjorten . Det var forresten ikke fjorten mot slutten... ',\n",
       "       '... stammer han unnskyldende : « <b>Jeg</b> kom til å tenke på min mor , kamerater ... <b>jeg</b> er jo så ung... ',\n",
       "       '<b>Jeg</b> stiger oppover marmoren og inn i selve hallen . Unge menn i mørkeblå skijakker Vandrer gestikulerende fram og tilbake... ',\n",
       "       'Og med dette slutter <b>jeg</b> sangen , <b>jeg</b> kan ikke synge mere .',\n",
       "       '... å svare på mine spørsmål om « la guerra » . <b>Jeg</b> føler meg plutselig barnslig ung og naiv ved siden av... ',\n",
       "       'Men også denne gangen sitter <b>jeg</b> i meksikanernes tresal . Fotoapparat og filmer gjemmes i saltasken . Gampen er salet... ',\n",
       "       'Hvorledes <b>jeg</b> mot morgenkvisten nådde Manzanillo husker <b>jeg</b> ikke . <b>Jeg</b> husker bare at <b>jeg</b> kjempet meg framover den åpne... ',\n",
       "       '... <b>jeg</b> førte lange , overbevisende diskusjoner med spanske offiserer . « Jo , mine landsmenn er dessverre marxister » , og <b>jeg</b>... ',\n",
       "       'Når kvelden kommer , når kvelden kommer , da ber <b>jeg</b> en bønn . <b>Jeg</b> ber til min mor ,... ',\n",
       "       '<b>Jeg</b> ble selvsagt med , og vi stod med skuddklare våpen og ventet . Det ble ikke lenge å vente... ',\n",
       "       'Da <b>jeg</b> ikke hørte noe fra Norge , tok <b>jeg</b> til å tenke ut en bok , <b>jeg</b> kunde jo... ',\n",
       "       '... hadde fått unger , og bakpå konvolutten stod : <b>Jeg</b> glemte visst å si at det bare er tre igjen... ',\n",
       "       '<b>Jeg</b> trer ut gjennom porten med kapellet spillende bak meg , på fem skritts avstand . Unge og gamle danner... ',\n",
       "       '... time . El generalissimo taler med sine offiserer . <b>Jeg</b> har funnet meg en plass på en av balkongene som... ',\n",
       "       '... Men da <b>jeg</b> forklarer ham at <b>jeg</b> skriver for en norsk avis , forstår han . « De vil altså se... ',\n",
       "       'I dag fikk <b>jeg</b> en overraskelse . En landsmann viste meg et eksemplar av « Tidens Tegn » og pekte på en... ',\n",
       "       '... Igjen ser <b>jeg</b> bare svart og rødt .',\n",
       "       '... Om ikke <b>jeg</b> vilde bli med ? <b>Jeg</b> skulde få høre landsbyens og fjellenes beste sangere og spillemenn , lovet... ',\n",
       "       'Dag for dag har <b>jeg</b> sett falangens propagandaplakater , lest deres aviser og sett deres tropper slentre gjennom gatene i... ',\n",
       "       '... Hva skulde <b>jeg</b> i et Manzanillo uten liner ved moloen ? <b>Jeg</b> ble sittende og drikke og lot hesten knase... ',\n",
       "       '... mengden seg utenfor Alcazar : Franco skal komme . <b>Jeg</b> hadde skaff et meg adgang til selve slottet . Gatene... ',\n",
       "       '... Det har regnet helt siden <b>jeg</b> kom hit til denne byen , hvis maurisk byggede hus egentlig skulde innby til... ',\n",
       "       'Og no skal <b>jeg</b> treffe mannen som står bak hele dette propagandamaskineriet . Utstillingsanlegget blir brukt til falangkaserner og lasaretter... ',\n",
       "       'Neste dag skulde snekkeren bringe et kjempebord og en enda større hylle , for det var opplagt at <b>jeg</b> ikke... ',\n",
       "       'Det var ved et rent tilfelle <b>jeg</b> kom til å delta i aksjonen ved Hønefoss , som førte til at... ',\n",
       "       '... <b>Jeg</b> er jo ikke katolikk , men allikevel gjør <b>jeg</b> korsets tegn og kneler ned foran bildet med den gåtefullt... ',\n",
       "       '... Ved solnedgang hadde <b>jeg</b> truffet to gjætere , noen av egnens mest berømte sangere , nesten rene indios , som... ',\n",
       "       '... vår . Det var da vi ble venner . <b>Jeg</b> kom til å få mye biyderi av dette vennskap ,... ',\n",
       "       'Så klåtrer <b>jeg</b> over baller med varer og hauger med saltøy , skrever over sovende menn og kvinner , får... ',\n",
       "       '<b>Jeg</b> skal spise en fersken av landsbyens beste , for Juanita skal <b>jeg</b> røve',\n",
       "       '<b>Jeg</b> sovnet i lenestolen . Bartenderen sovnet . Gjestene såtte seg til rette og hestene la seg ned . Det... ',\n",
       "       '... plassmangelen er det ganske god orden i lokalet . <b>Jeg</b> får anvist knagger for min frakk og min jakke .... ',\n",
       "       'Men så ser <b>jeg</b> ... ser de brente husene , ser en befolkning kledt i sorg , og ser inn... ',\n",
       "       '« Og så måtte <b>jeg</b> hjelpe min bror . <b>Jeg</b> hadde bare denne matchetten , men i mørket er den bedre... ',\n",
       "       'Noen vil kanskje synes <b>jeg</b> uttrykker meg vel krast . <b>Jeg</b> kan forsikre at <b>jeg</b> tvertimot uttaler meg i altfor... ',\n",
       "       '... . « Vent med å grave til vi når toppen der ligger høvdingenes graver der fant <b>jeg</b> vannbeholderen med papegøyeføttene . »',\n",
       "       '... Det var siste gangen <b>jeg</b> så skipet og dets mannskap . Da <b>jeg</b> neste lønningsdag igjen travet inn i Manzanillos... ',\n",
       "       'Før <b>jeg</b> begynte min fotmarsj gjennom det nybesatte området , hadde <b>jeg</b> studert alt <b>jeg</b> kunde få tak i av... ',\n",
       "       '<b>Jeg</b> har snakket med generaler og læger . <b>Jeg</b> har snakket med diplomater og intellektuelle , som stolt fortalte at... ',\n",
       "       'Men <b>jeg</b> vil kjenne denne krig og dette folk fra grunnen av . Folket kjenner <b>jeg</b> allerede nokså godt .... ',\n",
       "       '... Det var da <b>jeg</b> ble kjent med Jacinto . Han hadde stått og sett det hele ute i åkeren .... ',\n",
       "       '... Her kan <b>jeg</b> kanskje sitte ned og'], dtype=object)"
      ]
     },
     "execution_count": 46,
     "metadata": {},
     "output_type": "execute_result"
    }
   ],
   "source": [
    "jeg.concordance.concordance.to_numpy()"
   ]
  }
 ],
 "metadata": {
  "kernelspec": {
   "display_name": "Python 3 (ipykernel)",
   "language": "python",
   "name": "python3"
  },
  "language_info": {
   "codemirror_mode": {
    "name": "ipython",
    "version": 3
   },
   "file_extension": ".py",
   "mimetype": "text/x-python",
   "name": "python",
   "nbconvert_exporter": "python",
   "pygments_lexer": "ipython3",
   "version": "3.12.4"
  }
 },
 "nbformat": 4,
 "nbformat_minor": 5
}
